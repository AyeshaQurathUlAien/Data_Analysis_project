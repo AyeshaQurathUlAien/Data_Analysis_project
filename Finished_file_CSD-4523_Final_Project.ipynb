{
 "cells": [
  {
   "cell_type": "markdown",
   "id": "5ad02759",
   "metadata": {},
   "source": [
    "## The NPRI Case Study\n",
    "\n",
    "The National Pollutant Release Inventory (NPRI) is a public inventory of releases, disposals and transfers of over 320 pollutants from over 7,000 facilities in Canada. The Government of Canada provides an API to access the data of reported values for companies and facilities across the country.\n",
    "\n",
    "You can explore the data set through the NPRI website here: https://pollution-waste.canada.ca/national-release-inventory/"
   ]
  },
  {
   "cell_type": "markdown",
   "id": "9182c7e9",
   "metadata": {},
   "source": [
    "### Part 1. Getting the Data for Analysis \n",
    "\n",
    "\n",
    "The first part of the case study involves retrieving, rectifying and cleaning the data you will need for your analysis. At the end of this part of the case study you will have a CSV file you can use as your source data and you won't need to query the API every time you want to perform your analysis."
   ]
  },
  {
   "cell_type": "markdown",
   "id": "c3b19c72",
   "metadata": {},
   "source": [
    "Load the Pandas library (1 mark)."
   ]
  },
  {
   "cell_type": "code",
   "execution_count": 10,
   "id": "cddfd746",
   "metadata": {},
   "outputs": [],
   "source": [
    "import pandas as pd\n",
    "import ssl"
   ]
  },
  {
   "cell_type": "markdown",
   "id": "97ac3d61",
   "metadata": {},
   "source": [
    "Use the following URL to download the air release emissions for 2020 and 2021 for the pollutant Nitrogen Dioxide."
   ]
  },
  {
   "cell_type": "code",
   "execution_count": 38,
   "id": "f1308861",
   "metadata": {},
   "outputs": [],
   "source": [
    "api_address = \"https://pollution-waste.canada.ca/sradapi/v2/npri/Search/?fromYear=2020&toYear=2021&categoryId=2&substanceID=13506&length=10000\"\n",
    "import requests\n"
   ]
  },
  {
   "cell_type": "markdown",
   "id": "bcb510a1",
   "metadata": {},
   "source": [
    "Write the Pandas code to load the JSON from the <code>api_address</code> (3 marks)."
   ]
  },
  {
   "cell_type": "code",
   "execution_count": 45,
   "id": "ab289c04",
   "metadata": {},
   "outputs": [],
   "source": [
    "data = pd.read_json(api_address)\n"
   ]
  },
  {
   "cell_type": "markdown",
   "id": "4b314f5d",
   "metadata": {},
   "source": [
    "List the top 10 records in the data frame to review the structure (1 mark)."
   ]
  },
  {
   "cell_type": "code",
   "execution_count": 46,
   "id": "b5ad1539",
   "metadata": {},
   "outputs": [
    {
     "name": "stdout",
     "output_type": "stream",
     "text": [
      "   recordsTotal  recordsFiltered  \\\n",
      "0          7147             7147   \n",
      "1          7147             7147   \n",
      "2          7147             7147   \n",
      "3          7147             7147   \n",
      "4          7147             7147   \n",
      "5          7147             7147   \n",
      "6          7147             7147   \n",
      "7          7147             7147   \n",
      "8          7147             7147   \n",
      "9          7147             7147   \n",
      "\n",
      "                                                data  \n",
      "0  {'npriID': 1, 'ghgrpID': None, 'year': 2020, '...  \n",
      "1  {'npriID': 1, 'ghgrpID': 'G10009', 'year': 202...  \n",
      "2  {'npriID': 11, 'ghgrpID': None, 'year': 2020, ...  \n",
      "3  {'npriID': 11, 'ghgrpID': None, 'year': 2021, ...  \n",
      "4  {'npriID': 15, 'ghgrpID': None, 'year': 2020, ...  \n",
      "5  {'npriID': 15, 'ghgrpID': None, 'year': 2021, ...  \n",
      "6  {'npriID': 34, 'ghgrpID': None, 'year': 2020, ...  \n",
      "7  {'npriID': 34, 'ghgrpID': None, 'year': 2021, ...  \n",
      "8  {'npriID': 99, 'ghgrpID': None, 'year': 2020, ...  \n",
      "9  {'npriID': 99, 'ghgrpID': None, 'year': 2021, ...  \n"
     ]
    }
   ],
   "source": [
    "print(data.head(10))\n",
    "#print(data.columns)"
   ]
  },
  {
   "cell_type": "markdown",
   "id": "f6db8ba8",
   "metadata": {},
   "source": [
    "With a local data frame of the data, create a second data frame using the <code>json_normalize</code> function of Pandas. You'll want to do this on the <code>data</code> column (3 marks)."
   ]
  },
  {
   "cell_type": "code",
   "execution_count": 47,
   "id": "cef61a9a",
   "metadata": {},
   "outputs": [
    {
     "name": "stdout",
     "output_type": "stream",
     "text": [
      "   npriID ghgrpID  year                                 company  \\\n",
      "0       1    None  2020  Alberta-Pacific Forest Industries Inc.   \n",
      "1       1  G10009  2021  Alberta-Pacific Forest Industries Inc.   \n",
      "2      11    None  2020                      Hexion Canada Inc.   \n",
      "3      11    None  2021                      Hexion Canada Inc.   \n",
      "4      15    None  2020               Dofasco Inc., Stelco Inc.   \n",
      "5      15    None  2021               Dofasco Inc., Stelco Inc.   \n",
      "6      34    None  2020                        BASF Canada Inc.   \n",
      "7      34    None  2021                        BASF Canada Inc.   \n",
      "8      99    None  2020          Les Mines Agnico Eagle Limitée   \n",
      "9      99    None  2021          Les Mines Agnico Eagle Limitée   \n",
      "\n",
      "                                 facility                 city  hasP2Plan  \\\n",
      "0  Alberta-Pacific Forest Industries Inc.  COUNTY OF ATHABASCA      False   \n",
      "1  Alberta-Pacific Forest Industries Inc.  County of Athabasca      False   \n",
      "2   Hexion Canada Inc.- Edmonton Facility             EDMONTON      False   \n",
      "3   Hexion Canada Inc.- Edmonton Facility             Edmonton      False   \n",
      "4                                 Baycoat             HAMILTON      False   \n",
      "5                                 Baycoat             Hamilton      False   \n",
      "6                            TORONTO SITE              TORONTO       True   \n",
      "7                            TORONTO SITE              Toronto      False   \n",
      "8                        Division Laronde        ROUYN-NORANDA      False   \n",
      "9                        Division Laronde        Rouyn-Noranda      False   \n",
      "\n",
      "   hasP2Activity  reportType.id   reportType.en  ...  \\\n",
      "0          False              1  NPRI Inventory  ...   \n",
      "1          False              1  NPRI Inventory  ...   \n",
      "2          False              1  NPRI Inventory  ...   \n",
      "3          False              1  NPRI Inventory  ...   \n",
      "4          False              1  NPRI Inventory  ...   \n",
      "5          False              1  NPRI Inventory  ...   \n",
      "6          False              1  NPRI Inventory  ...   \n",
      "7          False              1  NPRI Inventory  ...   \n",
      "8          False              1  NPRI Inventory  ...   \n",
      "9          False              1  NPRI Inventory  ...   \n",
      "\n",
      "  substance.releaseToAllMedia  substance.onsiteDisposals  \\\n",
      "0                        None                       None   \n",
      "1                        None                       None   \n",
      "2                        None                       None   \n",
      "3                        None                       None   \n",
      "4                        None                       None   \n",
      "5                        None                       None   \n",
      "6                        None                       None   \n",
      "7                        None                       None   \n",
      "8                        None                       None   \n",
      "9                        None                       None   \n",
      "\n",
      "  substance.offsiteDisposals substance.offsiteTreatment  \\\n",
      "0                       None                       None   \n",
      "1                       None                       None   \n",
      "2                       None                       None   \n",
      "3                       None                       None   \n",
      "4                       None                       None   \n",
      "5                       None                       None   \n",
      "6                       None                       None   \n",
      "7                       None                       None   \n",
      "8                       None                       None   \n",
      "9                       None                       None   \n",
      "\n",
      "   substance.offsiteRecycling substance.totalReleases  \\\n",
      "0                        None               1230.6100   \n",
      "1                        None               1044.2800   \n",
      "2                        None                  8.4036   \n",
      "3                        None                  8.6270   \n",
      "4                        None                 24.0000   \n",
      "5                        None                 24.0000   \n",
      "6                        None                  0.4000   \n",
      "7                        None                  0.4500   \n",
      "8                        None                 31.5300   \n",
      "9                        None                 29.9080   \n",
      "\n",
      "  substance.totalDisposals  unitType.id  unitType.en unitType.fr  \n",
      "0                     None            1       tonnes      tonnes  \n",
      "1                     None            1       tonnes      tonnes  \n",
      "2                     None            1       tonnes      tonnes  \n",
      "3                     None            1       tonnes      tonnes  \n",
      "4                     None            1       tonnes      tonnes  \n",
      "5                     None            1       tonnes      tonnes  \n",
      "6                     None            1       tonnes      tonnes  \n",
      "7                     None            1       tonnes      tonnes  \n",
      "8                     None            1       tonnes      tonnes  \n",
      "9                     None            1       tonnes      tonnes  \n",
      "\n",
      "[10 rows x 31 columns]\n"
     ]
    }
   ],
   "source": [
    "from pandas import json_normalize\n",
    "df_flat = json_normalize(data['data'])\n",
    "print(df_flat.head(10))"
   ]
  },
  {
   "cell_type": "markdown",
   "id": "2954e8e0",
   "metadata": {},
   "source": [
    "List the the top 10 records in the new data frame (1 mark)."
   ]
  },
  {
   "cell_type": "code",
   "execution_count": 48,
   "id": "918114b7",
   "metadata": {
    "scrolled": false
   },
   "outputs": [
    {
     "name": "stdout",
     "output_type": "stream",
     "text": [
      "   npriID ghgrpID  year                                 company  \\\n",
      "0       1    None  2020  Alberta-Pacific Forest Industries Inc.   \n",
      "1       1  G10009  2021  Alberta-Pacific Forest Industries Inc.   \n",
      "2      11    None  2020                      Hexion Canada Inc.   \n",
      "3      11    None  2021                      Hexion Canada Inc.   \n",
      "4      15    None  2020               Dofasco Inc., Stelco Inc.   \n",
      "5      15    None  2021               Dofasco Inc., Stelco Inc.   \n",
      "6      34    None  2020                        BASF Canada Inc.   \n",
      "7      34    None  2021                        BASF Canada Inc.   \n",
      "8      99    None  2020          Les Mines Agnico Eagle Limitée   \n",
      "9      99    None  2021          Les Mines Agnico Eagle Limitée   \n",
      "\n",
      "                                 facility                 city  hasP2Plan  \\\n",
      "0  Alberta-Pacific Forest Industries Inc.  COUNTY OF ATHABASCA      False   \n",
      "1  Alberta-Pacific Forest Industries Inc.  County of Athabasca      False   \n",
      "2   Hexion Canada Inc.- Edmonton Facility             EDMONTON      False   \n",
      "3   Hexion Canada Inc.- Edmonton Facility             Edmonton      False   \n",
      "4                                 Baycoat             HAMILTON      False   \n",
      "5                                 Baycoat             Hamilton      False   \n",
      "6                            TORONTO SITE              TORONTO       True   \n",
      "7                            TORONTO SITE              Toronto      False   \n",
      "8                        Division Laronde        ROUYN-NORANDA      False   \n",
      "9                        Division Laronde        Rouyn-Noranda      False   \n",
      "\n",
      "   hasP2Activity  reportType.id   reportType.en  ...  \\\n",
      "0          False              1  NPRI Inventory  ...   \n",
      "1          False              1  NPRI Inventory  ...   \n",
      "2          False              1  NPRI Inventory  ...   \n",
      "3          False              1  NPRI Inventory  ...   \n",
      "4          False              1  NPRI Inventory  ...   \n",
      "5          False              1  NPRI Inventory  ...   \n",
      "6          False              1  NPRI Inventory  ...   \n",
      "7          False              1  NPRI Inventory  ...   \n",
      "8          False              1  NPRI Inventory  ...   \n",
      "9          False              1  NPRI Inventory  ...   \n",
      "\n",
      "  substance.releaseToAllMedia  substance.onsiteDisposals  \\\n",
      "0                        None                       None   \n",
      "1                        None                       None   \n",
      "2                        None                       None   \n",
      "3                        None                       None   \n",
      "4                        None                       None   \n",
      "5                        None                       None   \n",
      "6                        None                       None   \n",
      "7                        None                       None   \n",
      "8                        None                       None   \n",
      "9                        None                       None   \n",
      "\n",
      "  substance.offsiteDisposals substance.offsiteTreatment  \\\n",
      "0                       None                       None   \n",
      "1                       None                       None   \n",
      "2                       None                       None   \n",
      "3                       None                       None   \n",
      "4                       None                       None   \n",
      "5                       None                       None   \n",
      "6                       None                       None   \n",
      "7                       None                       None   \n",
      "8                       None                       None   \n",
      "9                       None                       None   \n",
      "\n",
      "   substance.offsiteRecycling substance.totalReleases  \\\n",
      "0                        None               1230.6100   \n",
      "1                        None               1044.2800   \n",
      "2                        None                  8.4036   \n",
      "3                        None                  8.6270   \n",
      "4                        None                 24.0000   \n",
      "5                        None                 24.0000   \n",
      "6                        None                  0.4000   \n",
      "7                        None                  0.4500   \n",
      "8                        None                 31.5300   \n",
      "9                        None                 29.9080   \n",
      "\n",
      "  substance.totalDisposals  unitType.id  unitType.en unitType.fr  \n",
      "0                     None            1       tonnes      tonnes  \n",
      "1                     None            1       tonnes      tonnes  \n",
      "2                     None            1       tonnes      tonnes  \n",
      "3                     None            1       tonnes      tonnes  \n",
      "4                     None            1       tonnes      tonnes  \n",
      "5                     None            1       tonnes      tonnes  \n",
      "6                     None            1       tonnes      tonnes  \n",
      "7                     None            1       tonnes      tonnes  \n",
      "8                     None            1       tonnes      tonnes  \n",
      "9                     None            1       tonnes      tonnes  \n",
      "\n",
      "[10 rows x 31 columns]\n"
     ]
    }
   ],
   "source": [
    "print(df_flat.head(10))"
   ]
  },
  {
   "cell_type": "markdown",
   "id": "1fbc56b2",
   "metadata": {},
   "source": [
    "This data frame is so wide that some of the column names are hidden. Issue a command that will list all the column names (1 mark)."
   ]
  },
  {
   "cell_type": "code",
   "execution_count": 49,
   "id": "f058c071",
   "metadata": {},
   "outputs": [
    {
     "name": "stdout",
     "output_type": "stream",
     "text": [
      "['npriID', 'ghgrpID', 'year', 'company', 'facility', 'city', 'hasP2Plan', 'hasP2Activity', 'reportType.id', 'reportType.en', 'reportType.fr', 'province.id', 'province.en', 'province.fr', 'naics.id', 'naics.en', 'naics.fr', 'substance.substanceId', 'substance.releaseToAir', 'substance.releaseToWater', 'substance.releaseToLand', 'substance.releaseToAllMedia', 'substance.onsiteDisposals', 'substance.offsiteDisposals', 'substance.offsiteTreatment', 'substance.offsiteRecycling', 'substance.totalReleases', 'substance.totalDisposals', 'unitType.id', 'unitType.en', 'unitType.fr']\n"
     ]
    }
   ],
   "source": [
    "# List all the column names\n",
    "print(df_flat.columns.tolist())"
   ]
  },
  {
   "cell_type": "markdown",
   "id": "e7063a8c",
   "metadata": {},
   "source": [
    "The data in this second data frame is pretty raw and there are a lot unneccessary columns. Create a list variable named <code>fields</code> that contains only the year, company, facility, city, province, naics id and release to air substance column names (3 marks)."
   ]
  },
  {
   "cell_type": "code",
   "execution_count": 51,
   "id": "01d09472",
   "metadata": {},
   "outputs": [
    {
     "name": "stdout",
     "output_type": "stream",
     "text": [
      "['year', 'company', 'facility', 'city', 'province.en', 'naics.id', 'substance.releaseToAir']\n"
     ]
    }
   ],
   "source": [
    "# Create a list with the required column names\n",
    "fields = [\n",
    "    \"year\", \n",
    "    \"company\", \n",
    "    \"facility\", \n",
    "    \"city\", \n",
    "    \"province.en\", \n",
    "    \"naics.id\", \n",
    "    \"substance.releaseToAir\"\n",
    "]\n",
    "# Print the fields list to verify\n",
    "print(fields)\n"
   ]
  },
  {
   "cell_type": "markdown",
   "id": "5b9d33e0",
   "metadata": {},
   "source": [
    "Now create a new data frame that contains just the fields you specified above. Name this data frame <code>df_clean</code> (2 marks)."
   ]
  },
  {
   "cell_type": "code",
   "execution_count": 52,
   "id": "ceb72d37",
   "metadata": {},
   "outputs": [
    {
     "name": "stdout",
     "output_type": "stream",
     "text": [
      "   year                                 company  \\\n",
      "0  2020  Alberta-Pacific Forest Industries Inc.   \n",
      "1  2021  Alberta-Pacific Forest Industries Inc.   \n",
      "2  2020                      Hexion Canada Inc.   \n",
      "3  2021                      Hexion Canada Inc.   \n",
      "4  2020               Dofasco Inc., Stelco Inc.   \n",
      "5  2021               Dofasco Inc., Stelco Inc.   \n",
      "6  2020                        BASF Canada Inc.   \n",
      "7  2021                        BASF Canada Inc.   \n",
      "8  2020          Les Mines Agnico Eagle Limitée   \n",
      "9  2021          Les Mines Agnico Eagle Limitée   \n",
      "\n",
      "                                 facility                 city province.en  \\\n",
      "0  Alberta-Pacific Forest Industries Inc.  COUNTY OF ATHABASCA     Alberta   \n",
      "1  Alberta-Pacific Forest Industries Inc.  County of Athabasca     Alberta   \n",
      "2   Hexion Canada Inc.- Edmonton Facility             EDMONTON     Alberta   \n",
      "3   Hexion Canada Inc.- Edmonton Facility             Edmonton     Alberta   \n",
      "4                                 Baycoat             HAMILTON     Ontario   \n",
      "5                                 Baycoat             Hamilton     Ontario   \n",
      "6                            TORONTO SITE              TORONTO     Ontario   \n",
      "7                            TORONTO SITE              Toronto     Ontario   \n",
      "8                        Division Laronde        ROUYN-NORANDA      Quebec   \n",
      "9                        Division Laronde        Rouyn-Noranda      Quebec   \n",
      "\n",
      "   naics.id  substance.releaseToAir  \n",
      "0    322112               1230.6100  \n",
      "1    322112               1044.2800  \n",
      "2    325210                  8.4036  \n",
      "3    325210                  8.6270  \n",
      "4    332810                 24.0000  \n",
      "5    332810                 24.0000  \n",
      "6    325210                  0.4000  \n",
      "7    325210                  0.4500  \n",
      "8    212220                 31.5300  \n",
      "9    212220                 29.9080  \n"
     ]
    }
   ],
   "source": [
    "# Create a new DataFrame with just the specified fields\n",
    "df_clean = df_flat[fields]\n",
    "\n",
    "# Show the top 10 records to verify the new DataFrame\n",
    "print(df_clean.head(10))\n"
   ]
  },
  {
   "cell_type": "markdown",
   "id": "e9f22785",
   "metadata": {},
   "source": [
    "List the top 5 rows so that you can visually confirm you have the data you want (1 mark)."
   ]
  },
  {
   "cell_type": "code",
   "execution_count": 53,
   "id": "40587a9c",
   "metadata": {},
   "outputs": [
    {
     "name": "stdout",
     "output_type": "stream",
     "text": [
      "   year                                 company  \\\n",
      "0  2020  Alberta-Pacific Forest Industries Inc.   \n",
      "1  2021  Alberta-Pacific Forest Industries Inc.   \n",
      "2  2020                      Hexion Canada Inc.   \n",
      "3  2021                      Hexion Canada Inc.   \n",
      "4  2020               Dofasco Inc., Stelco Inc.   \n",
      "\n",
      "                                 facility                 city province.en  \\\n",
      "0  Alberta-Pacific Forest Industries Inc.  COUNTY OF ATHABASCA     Alberta   \n",
      "1  Alberta-Pacific Forest Industries Inc.  County of Athabasca     Alberta   \n",
      "2   Hexion Canada Inc.- Edmonton Facility             EDMONTON     Alberta   \n",
      "3   Hexion Canada Inc.- Edmonton Facility             Edmonton     Alberta   \n",
      "4                                 Baycoat             HAMILTON     Ontario   \n",
      "\n",
      "   naics.id  substance.releaseToAir  \n",
      "0    322112               1230.6100  \n",
      "1    322112               1044.2800  \n",
      "2    325210                  8.4036  \n",
      "3    325210                  8.6270  \n",
      "4    332810                 24.0000  \n"
     ]
    }
   ],
   "source": [
    "# Display the top 5 rows of the df_clean DataFrame\n",
    "print(df_clean.head(5))"
   ]
  },
  {
   "cell_type": "markdown",
   "id": "98011cd0",
   "metadata": {},
   "source": [
    "Some of the column names in this data frame are awkward. Issue a command against the data frame that will rename the last three columns to simply **province**, **naics** and **amount** (4 marks)."
   ]
  },
  {
   "cell_type": "code",
   "execution_count": 54,
   "id": "d28ca261",
   "metadata": {},
   "outputs": [
    {
     "name": "stderr",
     "output_type": "stream",
     "text": [
      "/var/folders/sz/j123x8lx2gs6767_4z6wvphn7y448g/T/ipykernel_5660/1840129863.py:2: SettingWithCopyWarning: \n",
      "A value is trying to be set on a copy of a slice from a DataFrame\n",
      "\n",
      "See the caveats in the documentation: https://pandas.pydata.org/pandas-docs/stable/user_guide/indexing.html#returning-a-view-versus-a-copy\n",
      "  df_clean.rename(columns={\n"
     ]
    }
   ],
   "source": [
    "# Rename the last three columns\n",
    "df_clean.rename(columns={\n",
    "    'province.en': 'province',\n",
    "    'naics.id': 'naics',\n",
    "    'substance.releaseToAir': 'amount'\n",
    "}, inplace=True)\n",
    "\n"
   ]
  },
  {
   "cell_type": "markdown",
   "id": "91e76a94",
   "metadata": {},
   "source": [
    "List the columsn in the data frame to confirm the rename (1 mark)."
   ]
  },
  {
   "cell_type": "code",
   "execution_count": 55,
   "id": "26d42358",
   "metadata": {},
   "outputs": [
    {
     "name": "stdout",
     "output_type": "stream",
     "text": [
      "   year                                 company  \\\n",
      "0  2020  Alberta-Pacific Forest Industries Inc.   \n",
      "1  2021  Alberta-Pacific Forest Industries Inc.   \n",
      "2  2020                      Hexion Canada Inc.   \n",
      "3  2021                      Hexion Canada Inc.   \n",
      "4  2020               Dofasco Inc., Stelco Inc.   \n",
      "\n",
      "                                 facility                 city province  \\\n",
      "0  Alberta-Pacific Forest Industries Inc.  COUNTY OF ATHABASCA  Alberta   \n",
      "1  Alberta-Pacific Forest Industries Inc.  County of Athabasca  Alberta   \n",
      "2   Hexion Canada Inc.- Edmonton Facility             EDMONTON  Alberta   \n",
      "3   Hexion Canada Inc.- Edmonton Facility             Edmonton  Alberta   \n",
      "4                                 Baycoat             HAMILTON  Ontario   \n",
      "\n",
      "    naics     amount  \n",
      "0  322112  1230.6100  \n",
      "1  322112  1044.2800  \n",
      "2  325210     8.4036  \n",
      "3  325210     8.6270  \n",
      "4  332810    24.0000  \n"
     ]
    }
   ],
   "source": [
    "# Display the top 5 rows to confirm the renaming\n",
    "print(df_clean.head(5))"
   ]
  },
  {
   "cell_type": "markdown",
   "id": "24376dd4",
   "metadata": {},
   "source": [
    "Extracting and cleaning this data was a lot of work. Save the <code>df_clean</code> data frame to CSV so that you'll have a local copy of the data for analysis. Name the file case_study_1_data.csv (3 marks).\n",
    "\n",
    "Note: don't save the data frame index as part of the file."
   ]
  },
  {
   "cell_type": "code",
   "execution_count": 56,
   "id": "bbead44a",
   "metadata": {},
   "outputs": [
    {
     "name": "stdout",
     "output_type": "stream",
     "text": [
      "DataFrame has been saved to 'case_study_1_data.csv'\n"
     ]
    }
   ],
   "source": [
    "# Save the df_clean DataFrame to a CSV file\n",
    "df_clean.to_csv('case_study_1_data.csv', index=False)\n",
    "\n",
    "# Confirm that the file has been saved\n",
    "print(\"DataFrame has been saved to 'case_study_1_data.csv'\")"
   ]
  },
  {
   "cell_type": "markdown",
   "id": "436a9632",
   "metadata": {},
   "source": [
    "### Part 2. Analyzing the Data \n",
    "\n",
    "Now that you have your data available locally you can begin analyzing the data and answering questions about it. "
   ]
  },
  {
   "cell_type": "markdown",
   "id": "58c38b7e",
   "metadata": {},
   "source": [
    "Re-load the Pandas library and load the numpy, matplotlib and seaborn libraries (1 mark)."
   ]
  },
  {
   "cell_type": "code",
   "execution_count": 58,
   "id": "f7e3e96a",
   "metadata": {},
   "outputs": [
    {
     "name": "stderr",
     "output_type": "stream",
     "text": [
      "Matplotlib is building the font cache; this may take a moment.\n"
     ]
    }
   ],
   "source": [
    "# Importing necessary libraries\n",
    "import pandas as pd\n",
    "import numpy as np\n",
    "import matplotlib.pyplot as plt\n",
    "import seaborn as sns\n"
   ]
  },
  {
   "cell_type": "markdown",
   "id": "f83c5fc7",
   "metadata": {},
   "source": [
    "Load your clean data into a data frame (2 marks)."
   ]
  },
  {
   "cell_type": "code",
   "execution_count": 59,
   "id": "6c19fda0",
   "metadata": {},
   "outputs": [
    {
     "name": "stdout",
     "output_type": "stream",
     "text": [
      "   year                                 company  \\\n",
      "0  2020  Alberta-Pacific Forest Industries Inc.   \n",
      "1  2021  Alberta-Pacific Forest Industries Inc.   \n",
      "2  2020                      Hexion Canada Inc.   \n",
      "3  2021                      Hexion Canada Inc.   \n",
      "4  2020               Dofasco Inc., Stelco Inc.   \n",
      "\n",
      "                                 facility                 city province  \\\n",
      "0  Alberta-Pacific Forest Industries Inc.  COUNTY OF ATHABASCA  Alberta   \n",
      "1  Alberta-Pacific Forest Industries Inc.  County of Athabasca  Alberta   \n",
      "2   Hexion Canada Inc.- Edmonton Facility             EDMONTON  Alberta   \n",
      "3   Hexion Canada Inc.- Edmonton Facility             Edmonton  Alberta   \n",
      "4                                 Baycoat             HAMILTON  Ontario   \n",
      "\n",
      "    naics     amount  \n",
      "0  322112  1230.6100  \n",
      "1  322112  1044.2800  \n",
      "2  325210     8.4036  \n",
      "3  325210     8.6270  \n",
      "4  332810    24.0000  \n"
     ]
    }
   ],
   "source": [
    "# Load the CSV file into a DataFrame\n",
    "df_loaded = pd.read_csv('case_study_1_data.csv')\n",
    "\n",
    "# Display the top 5 rows to confirm the data\n",
    "print(df_loaded.head(5))\n"
   ]
  },
  {
   "cell_type": "markdown",
   "id": "59e359ff",
   "metadata": {},
   "source": [
    "List the top 5 rows of the data frame to confirm the data (1 mark)."
   ]
  },
  {
   "cell_type": "code",
   "execution_count": 60,
   "id": "0e985d20",
   "metadata": {},
   "outputs": [
    {
     "name": "stdout",
     "output_type": "stream",
     "text": [
      "   year                                 company  \\\n",
      "0  2020  Alberta-Pacific Forest Industries Inc.   \n",
      "1  2021  Alberta-Pacific Forest Industries Inc.   \n",
      "2  2020                      Hexion Canada Inc.   \n",
      "3  2021                      Hexion Canada Inc.   \n",
      "4  2020               Dofasco Inc., Stelco Inc.   \n",
      "\n",
      "                                 facility                 city province  \\\n",
      "0  Alberta-Pacific Forest Industries Inc.  COUNTY OF ATHABASCA  Alberta   \n",
      "1  Alberta-Pacific Forest Industries Inc.  County of Athabasca  Alberta   \n",
      "2   Hexion Canada Inc.- Edmonton Facility             EDMONTON  Alberta   \n",
      "3   Hexion Canada Inc.- Edmonton Facility             Edmonton  Alberta   \n",
      "4                                 Baycoat             HAMILTON  Ontario   \n",
      "\n",
      "    naics     amount  \n",
      "0  322112  1230.6100  \n",
      "1  322112  1044.2800  \n",
      "2  325210     8.4036  \n",
      "3  325210     8.6270  \n",
      "4  332810    24.0000  \n"
     ]
    }
   ],
   "source": [
    "print(df_loaded.head())"
   ]
  },
  {
   "cell_type": "markdown",
   "id": "f5d14e30",
   "metadata": {},
   "source": [
    "List the descriptive statistics for the amount column (1 mark)."
   ]
  },
  {
   "cell_type": "code",
   "execution_count": 61,
   "id": "2e8d2e7b",
   "metadata": {},
   "outputs": [
    {
     "name": "stdout",
     "output_type": "stream",
     "text": [
      "count     7147.000000\n",
      "mean       147.100752\n",
      "std        590.541849\n",
      "min          0.004237\n",
      "25%          9.801505\n",
      "50%         37.120000\n",
      "75%         99.208500\n",
      "max      15739.989000\n",
      "Name: amount, dtype: float64\n"
     ]
    }
   ],
   "source": [
    "# Display descriptive statistics for the 'amount' column\n",
    "print(df_loaded['amount'].describe())\n"
   ]
  },
  {
   "cell_type": "markdown",
   "id": "8f1c54c0",
   "metadata": {},
   "source": [
    "The mean amount is **MEAN VALUE HERE** and the median amount is **MEDIAN VALUE HERE**. (2 marks)"
   ]
  },
  {
   "cell_type": "markdown",
   "id": "de3e191c",
   "metadata": {},
   "source": [
    "Issue a command against the data frame to reveal the name of the company that has the second-most entries in the data set (2 marks)."
   ]
  },
  {
   "cell_type": "code",
   "execution_count": 62,
   "id": "574905cd",
   "metadata": {},
   "outputs": [
    {
     "name": "stdout",
     "output_type": "stream",
     "text": [
      "The company with the second-most entries is: Whitecap Resources Inc.\n"
     ]
    }
   ],
   "source": [
    "# Count the number of entries per company\n",
    "company_counts = df_loaded['company'].value_counts()\n",
    "\n",
    "# Get the name of the company with the second-most entries\n",
    "second_most_company = company_counts.index[1]\n",
    "\n",
    "# Display the result\n",
    "print(f\"The company with the second-most entries is: {second_most_company}\")\n"
   ]
  },
  {
   "cell_type": "markdown",
   "id": "2382c40a",
   "metadata": {},
   "source": [
    "The name of the company is: **Whitecap Resolurces Inc** (1 mark)."
   ]
  },
  {
   "cell_type": "markdown",
   "id": "bc2e942a",
   "metadata": {},
   "source": [
    "Use a <code>group_by</code> command to find the name of the company with the second largest emissions. You will also need to utilize <code>sort_values</code> (5 marks)."
   ]
  },
  {
   "cell_type": "code",
   "execution_count": 68,
   "id": "777c807f",
   "metadata": {},
   "outputs": [
    {
     "name": "stdout",
     "output_type": "stream",
     "text": [
      "Saskatchewan Power Corporation\n"
     ]
    }
   ],
   "source": [
    "company_emissions = df_loaded.groupby('company')['amount'].sum()\n",
    "company_emissions_sorted = company_emissions.sort_values(ascending = False)\n",
    "second_largest_emissions_company = company_emissions_sorted.index[1]\n",
    "print(second_largest_emissions_company)"
   ]
  },
  {
   "cell_type": "markdown",
   "id": "95ed9f9c",
   "metadata": {},
   "source": [
    "The name of the company is: **Saskatchewan Power Corporation** (1 mark)."
   ]
  },
  {
   "cell_type": "markdown",
   "id": "bf0ea5c8",
   "metadata": {},
   "source": [
    "Issue a command that will list each of the provinces and their mean emission amounts (3 marks)."
   ]
  },
  {
   "cell_type": "code",
   "execution_count": 69,
   "id": "62af2382",
   "metadata": {},
   "outputs": [
    {
     "name": "stdout",
     "output_type": "stream",
     "text": [
      "province\n",
      "Alberta                      140.513626\n",
      "British Columbia             131.198998\n",
      "Manitoba                     101.047803\n",
      "New Brunswick                420.028785\n",
      "Newfoundland and Labrador    584.930352\n",
      "Northwest Territories        236.954651\n",
      "Nova Scotia                  524.016076\n",
      "Nunavut                      216.344958\n",
      "Ontario                      200.030375\n",
      "Prince Edward Island          21.234250\n",
      "Quebec                       206.121460\n",
      "Saskatchewan                  80.558390\n",
      "Yukon                        136.795231\n",
      "Name: amount, dtype: float64\n"
     ]
    }
   ],
   "source": [
    "# Group by 'province' and calculate the mean emission amount for each province\n",
    "province_mean_emissions = df_loaded.groupby('province')['amount'].mean()\n",
    "\n",
    "# Display the result\n",
    "print(province_mean_emissions)\n"
   ]
  },
  {
   "cell_type": "markdown",
   "id": "312de537",
   "metadata": {},
   "source": [
    "Using <code>matplotlib</code> create a bar chart of the total emissions for each province. Make sure to include a title and axes labels for the chart (6 marks)."
   ]
  },
  {
   "cell_type": "code",
   "execution_count": 70,
   "id": "4dc181f5",
   "metadata": {},
   "outputs": [
    {
     "data": {
      "image/png": "[encoded data removed]",
      "text/plain": [
       "<Figure size 1000x600 with 1 Axes>"
      ]
     },
     "metadata": {},
     "output_type": "display_data"
    }
   ],
   "source": [
    "# Group by 'province' and sum the total emissions for each province\n",
    "province_total_emissions = df_loaded.groupby('province')['amount'].sum()\n",
    "\n",
    "# Create a bar chart using Matplotlib\n",
    "plt.figure(figsize=(10,6))\n",
    "province_total_emissions.plot(kind='bar', color='skyblue')\n",
    "\n",
    "# Add a title and labels\n",
    "plt.title('Total Emissions by Province', fontsize=16)\n",
    "plt.xlabel('Province', fontsize=12)\n",
    "plt.ylabel('Total Emissions', fontsize=12)\n",
    "\n",
    "# Display the chart\n",
    "plt.xticks(rotation=45, ha='right')  # Rotate the x-axis labels for better readability\n",
    "plt.tight_layout()  # Adjust the layout for better presentation\n",
    "plt.show()\n"
   ]
  },
  {
   "cell_type": "markdown",
   "id": "e5951c02",
   "metadata": {},
   "source": [
    "The province **ALBERTA** is responsible for the majority of emissions (1 mark)."
   ]
  },
  {
   "cell_type": "markdown",
   "id": "9ec8680e",
   "metadata": {},
   "source": [
    "Now find the top 5 cities for emissions *in the top province* (5 marks)."
   ]
  },
  {
   "cell_type": "code",
   "execution_count": 78,
   "id": "1876e1f1",
   "metadata": {},
   "outputs": [
    {
     "name": "stdout",
     "output_type": "stream",
     "text": [
      "city\n",
      "Fort Mcmurray    63970.719953\n",
      "Calgary          37099.008823\n",
      "Warburg          26172.130000\n",
      "Duffield         20756.470000\n",
      "Na               14396.776795\n",
      "Name: amount, dtype: float64\n"
     ]
    }
   ],
   "source": [
    "# Step 1: Filter the data for Alberta\n",
    "alberta_data = df_loaded[df_loaded['province'] == 'Alberta']\n",
    "\n",
    "# Step 2: Group by 'city' and calculate total emissions for each city\n",
    "city_emissions = alberta_data.groupby('city')['amount'].sum()\n",
    "\n",
    "# Step 3: Sort the emissions in descending order and get the top 5 cities\n",
    "top_cities_alberta = city_emissions.sort_values(ascending=False).head(5)\n",
    "\n",
    "# Step 4: Display the result\n",
    "print(top_cities_alberta)\n"
   ]
  },
  {
   "cell_type": "markdown",
   "id": "c70e4f81",
   "metadata": {},
   "source": [
    "What do you notice above the top five cities? **Fort McMurray, Calgary, WARBURG, Duffield, Na** (1 mark)."
   ]
  },
  {
   "cell_type": "markdown",
   "id": "e0871944",
   "metadata": {},
   "source": [
    "Use the Pandas <code>mask</code> command to correct the issue by replacing one value with the other (4 marks)."
   ]
  },
  {
   "cell_type": "code",
   "execution_count": 79,
   "id": "8044384d",
   "metadata": {},
   "outputs": [
    {
     "name": "stdout",
     "output_type": "stream",
     "text": [
      "city\n",
      "Fort Mcmurray        63970.719953\n",
      "Calgary              37099.008823\n",
      "Warburg              26172.130000\n",
      "Duffield             20756.470000\n",
      "Fort Saskatchewan    14074.563067\n",
      "Name: amount, dtype: float64\n"
     ]
    }
   ],
   "source": [
    "import numpy as np\n",
    "\n",
    "# Step 1: Normalize the capitalization of the 'city' column\n",
    "df_loaded['city'] = df_loaded['city'].str.title()\n",
    "\n",
    "# Step 2: Mask \"Na\" and replace with NaN\n",
    "df_loaded['city'] = df_loaded['city'].mask(df_loaded['city'].str.lower() == 'na', np.nan)\n",
    "\n",
    "# Step 3: Filter out rows where 'city' is NaN (i.e., invalid cities)\n",
    "df_loaded_clean = df_loaded[df_loaded['city'].notna()]\n",
    "\n",
    "# Step 4: Filter the data for Alberta\n",
    "alberta_data = df_loaded_clean[df_loaded_clean['province'] == 'Alberta']\n",
    "\n",
    "# Step 5: Group by 'city' and calculate total emissions for each city\n",
    "city_emissions = alberta_data.groupby('city')['amount'].sum()\n",
    "\n",
    "# Step 6: Sort the emissions in descending order and get the top 5 cities\n",
    "top_cities_alberta = city_emissions.sort_values(ascending=False).head(5)\n",
    "\n",
    "\n"
   ]
  },
  {
   "cell_type": "markdown",
   "id": "35acc2f9",
   "metadata": {},
   "source": [
    "Re-issue the top 5 cities command to verify that your fix worked (1 mark)."
   ]
  },
  {
   "cell_type": "code",
   "execution_count": 80,
   "id": "ab59f4b4",
   "metadata": {},
   "outputs": [
    {
     "name": "stdout",
     "output_type": "stream",
     "text": [
      "city\n",
      "Fort Mcmurray        63970.719953\n",
      "Calgary              37099.008823\n",
      "Warburg              26172.130000\n",
      "Duffield             20756.470000\n",
      "Fort Saskatchewan    14074.563067\n",
      "Name: amount, dtype: float64\n"
     ]
    }
   ],
   "source": [
    "#Display the result\n",
    "print(top_cities_alberta)"
   ]
  },
  {
   "cell_type": "markdown",
   "id": "0e78bbe0",
   "metadata": {},
   "source": [
    "Identify the top 5 NAICS codes by emission amounts. (4 marks)."
   ]
  },
  {
   "cell_type": "code",
   "execution_count": 82,
   "id": "ef34ef83",
   "metadata": {},
   "outputs": [
    {
     "name": "stdout",
     "output_type": "stream",
     "text": [
      "naics\n",
      "221112    191383.774728\n",
      "211110    161400.443648\n",
      "211142     68215.083735\n",
      "327310     53107.471600\n",
      "211141     39165.703529\n",
      "Name: amount, dtype: float64\n"
     ]
    }
   ],
   "source": [
    "# Step 1: Group by 'naics' and calculate total emissions for each NAICS code\n",
    "naics_emissions = df_loaded_clean.groupby('naics')['amount'].sum()\n",
    "\n",
    "# Step 2: Sort the emissions in descending order and get the top 5 NAICS codes\n",
    "top_naics = naics_emissions.sort_values(ascending=False).head(5)\n",
    "\n",
    "# Step 3: Display the result\n",
    "print(top_naics)\n"
   ]
  },
  {
   "cell_type": "markdown",
   "id": "5c062294",
   "metadata": {},
   "source": [
    "The top 5 NAICS codes are: **ENTER NAICS CODES HERE** (1 mark)."
   ]
  },
  {
   "cell_type": "markdown",
   "id": "6fc23093",
   "metadata": {},
   "source": [
    "Create a new data frame that contains only the entries for the top 5 NAICS codes. Use the Pandas command <code>isin</code> command to perform the subsetting (4 marks)."
   ]
  },
  {
   "cell_type": "code",
   "execution_count": 83,
   "id": "9c8ed3f4",
   "metadata": {},
   "outputs": [
    {
     "name": "stdout",
     "output_type": "stream",
     "text": [
      "    year                                      company  \\\n",
      "10  2020           Canadian Natural Resources Limited   \n",
      "11  2021           Canadian Natural Resources Limited   \n",
      "30  2020       Capital Power Generation Services Inc.   \n",
      "31  2021       Capital Power Generation Services Inc.   \n",
      "50  2020  Tidewater Midstream and Infrastructure Ltd.   \n",
      "\n",
      "                              facility                  city province   naics  \\\n",
      "10             Dunvegan Sour Gas Plant              Fairview  Alberta  211110   \n",
      "11             Dunvegan Sour Gas Plant              Fairview  Alberta  211110   \n",
      "30  Genesee Thermal Generating Station               Warburg  Alberta  221112   \n",
      "31  Genesee Thermal Generating Station               Warburg  Alberta  221112   \n",
      "50            Ram River Sour Gas Plant  Rocky Mountain House  Alberta  211110   \n",
      "\n",
      "         amount  \n",
      "10    291.16700  \n",
      "11    262.61957  \n",
      "30  13759.43000  \n",
      "31  12412.70000  \n",
      "50    456.30400  \n"
     ]
    }
   ],
   "source": [
    "# Step 1: Get the list of top 5 NAICS codes\n",
    "top_naics_codes = top_naics.index.tolist()\n",
    "\n",
    "# Step 2: Filter the original DataFrame to include only rows with top 5 NAICS codes\n",
    "df_top_naics = df_loaded_clean[df_loaded_clean['naics'].isin(top_naics_codes)]\n",
    "\n",
    "\n"
   ]
  },
  {
   "cell_type": "markdown",
   "id": "e5053828",
   "metadata": {},
   "source": [
    "Issue a command to verify that the new data frame only contains the 5 NAICS codes (2 marks)."
   ]
  },
  {
   "cell_type": "code",
   "execution_count": 84,
   "id": "191262f1",
   "metadata": {},
   "outputs": [
    {
     "name": "stdout",
     "output_type": "stream",
     "text": [
      "    year                                      company  \\\n",
      "10  2020           Canadian Natural Resources Limited   \n",
      "11  2021           Canadian Natural Resources Limited   \n",
      "30  2020       Capital Power Generation Services Inc.   \n",
      "31  2021       Capital Power Generation Services Inc.   \n",
      "50  2020  Tidewater Midstream and Infrastructure Ltd.   \n",
      "\n",
      "                              facility                  city province   naics  \\\n",
      "10             Dunvegan Sour Gas Plant              Fairview  Alberta  211110   \n",
      "11             Dunvegan Sour Gas Plant              Fairview  Alberta  211110   \n",
      "30  Genesee Thermal Generating Station               Warburg  Alberta  221112   \n",
      "31  Genesee Thermal Generating Station               Warburg  Alberta  221112   \n",
      "50            Ram River Sour Gas Plant  Rocky Mountain House  Alberta  211110   \n",
      "\n",
      "         amount  \n",
      "10    291.16700  \n",
      "11    262.61957  \n",
      "30  13759.43000  \n",
      "31  12412.70000  \n",
      "50    456.30400  \n"
     ]
    }
   ],
   "source": [
    "# Display the result\n",
    "print(df_top_naics.head())"
   ]
  },
  {
   "cell_type": "markdown",
   "id": "912b4496",
   "metadata": {},
   "source": [
    "Make a boxplot of the emission amounts for all five NAICS codes. Split the data by year so that each NAICS code has two boxplots. Be sure to include all boxplots in the same chart (6 marks)."
   ]
  },
  {
   "cell_type": "code",
   "execution_count": 87,
   "id": "a01c9e71",
   "metadata": {},
   "outputs": [
    {
     "data": {
      "image/png": "[encoded data removed]",
      "text/plain": [
       "<Figure size 1200x600 with 1 Axes>"
      ]
     },
     "metadata": {},
     "output_type": "display_data"
    },
    {
     "name": "stdout",
     "output_type": "stream",
     "text": [
      "NAICS code with the largest median emissions: 327310\n",
      "Year with the highest median emissions: 2020\n"
     ]
    }
   ],
   "source": [
    "import seaborn as sns\n",
    "import matplotlib.pyplot as plt\n",
    "\n",
    "# Step 1: Filter the data for the top 5 NAICS codes\n",
    "df_top_naics_years = df_top_naics[df_top_naics['naics'].isin(top_naics_codes)]\n",
    "\n",
    "# Step 2: Create a boxplot using Seaborn\n",
    "plt.figure(figsize=(12, 6))\n",
    "sns.boxplot(x='naics', y='amount', hue='year', data=df_top_naics_years)\n",
    "\n",
    "# Step 3: Add labels and title\n",
    "plt.title('Emissions by NAICS Code (2020 and 2021)', fontsize=14)\n",
    "plt.xlabel('NAICS Code', fontsize=12)\n",
    "plt.ylabel('Emission Amount', fontsize=12)\n",
    "plt.legend(title='Year')\n",
    "\n",
    "# Step 4: Show the plot\n",
    "plt.tight_layout()\n",
    "plt.show()\n",
    "\n",
    "\n",
    "\n",
    "\n"
   ]
  },
  {
   "cell_type": "markdown",
   "id": "02aa0b39",
   "metadata": {},
   "source": [
    "Which NAICS code has the largest median amount of emissions? **211142** (1 mark).\n",
    "\n",
    "Which year has the higher value? **2020** (1 mark)."
   ]
  },
  {
   "cell_type": "markdown",
   "id": "363e4186",
   "metadata": {},
   "source": []
  }
 ],
 "metadata": {
  "kernelspec": {
   "display_name": "Python 3 (ipykernel)",
   "language": "python",
   "name": "python3"
  },
  "language_info": {
   "codemirror_mode": {
    "name": "ipython",
    "version": 3
   },
   "file_extension": ".py",
   "mimetype": "text/x-python",
   "name": "python",
   "nbconvert_exporter": "python",
   "pygments_lexer": "ipython3",
   "version": "3.10.2"
  }
 },
 "nbformat": 4,
 "nbformat_minor": 5
}
